{
 "cells": [
  {
   "cell_type": "code",
   "execution_count": 1,
   "metadata": {
    "collapsed": true
   },
   "outputs": [],
   "source": [
    "# Simple Convolutional Autoencoder\n",
    "# Code by GunhoChoi\n",
    "\n",
    "import torch\n",
    "import torch.nn as nn\n",
    "import torch.utils as utils\n",
    "from torch.autograd import Variable\n",
    "import torchvision.datasets as dset\n",
    "import torchvision.transforms as transforms\n",
    "import matplotlib.pyplot as plt\n",
    "%matplotlib inline"
   ]
  },
  {
   "cell_type": "code",
   "execution_count": 2,
   "metadata": {
    "collapsed": false
   },
   "outputs": [],
   "source": [
    "# Set Hyperparameters\n",
    "\n",
    "epoch = 100\n",
    "batch_size =100\n",
    "learning_rate = 0.001\n",
    "\n",
    "# Download Data\n",
    "\n",
    "mnist_train = dset.MNIST(\"./\", train=True, transform=transforms.ToTensor(), target_transform=None, download=True)\n",
    "mnist_test  = dset.MNIST(\"./\", train=False, transform=transforms.ToTensor(), target_transform=None, download=True)\n",
    "\n",
    "# Set Data Loader(input pipeline)\n",
    "\n",
    "train_loader = torch.utils.data.DataLoader(dataset=mnist_train,batch_size=batch_size,shuffle=True)"
   ]
  },
  {
   "cell_type": "code",
   "execution_count": 3,
   "metadata": {
    "collapsed": false
   },
   "outputs": [],
   "source": [
    "# Encoder \n",
    "# torch.nn.Conv2d(in_channels, out_channels, kernel_size,\n",
    "#                 stride=1, padding=0, dilation=1,\n",
    "#                 groups=1, bias=True)\n",
    "# batch x 1 x 28 x 28 -> batch x 512\n",
    "\n",
    "class Encoder(nn.Module):\n",
    "    def __init__(self):\n",
    "        super(Encoder,self).__init__()\n",
    "        self.layer1 = nn.Sequential(\n",
    "                        nn.Conv2d(1,16,3,padding=1),   # batch x 16 x 28 x 28\n",
    "                        nn.ReLU(),\n",
    "                        nn.BatchNorm2d(16),\n",
    "                        nn.Conv2d(16,32,3,padding=1),  # batch x 32 x 28 x 28\n",
    "                        nn.ReLU(),\n",
    "                        nn.BatchNorm2d(32),\n",
    "                        nn.Conv2d(32,64,3,padding=1),  # batch x 32 x 28 x 28\n",
    "                        nn.ReLU(),\n",
    "                        nn.BatchNorm2d(64),\n",
    "                        nn.MaxPool2d(2,2)   # batch x 64 x 14 x 14\n",
    "        )\n",
    "        self.layer2 = nn.Sequential(\n",
    "                        nn.Conv2d(64,128,3,padding=1),  # batch x 64 x 14 x 14\n",
    "                        nn.ReLU(),\n",
    "                        nn.BatchNorm2d(128),\n",
    "                        nn.MaxPool2d(2,2),\n",
    "                        nn.Conv2d(128,256,3,padding=1),  # batch x 64 x 7 x 7\n",
    "                        nn.ReLU()\n",
    "        )\n",
    "        \n",
    "                \n",
    "    def forward(self,x):\n",
    "        out = self.layer1(x)\n",
    "        out = self.layer2(out)\n",
    "        out = out.view(batch_size, -1)\n",
    "        return out\n",
    "    \n",
    "encoder = Encoder().cuda()"
   ]
  },
  {
   "cell_type": "code",
   "execution_count": 4,
   "metadata": {
    "collapsed": false
   },
   "outputs": [],
   "source": [
    "# Decoder \n",
    "# torch.nn.ConvTranspose2d(in_channels, out_channels, kernel_size,\n",
    "#                          stride=1, padding=0, output_padding=0,\n",
    "#                          groups=1, bias=True)\n",
    "# output_height = (height-1)*stride + kernel_size - 2*padding + output_padding\n",
    "# batch x 512 -> batch x 1 x 28 x 28\n",
    "\n",
    "class Decoder(nn.Module):\n",
    "    def __init__(self):\n",
    "        super(Decoder,self).__init__()\n",
    "        self.layer1 = nn.Sequential(\n",
    "                        nn.ConvTranspose2d(256,128,3,2,1,1),\n",
    "                        nn.ReLU(),\n",
    "                        nn.BatchNorm2d(128),\n",
    "                        nn.ConvTranspose2d(128,64,3,1,1),\n",
    "                        nn.ReLU(),\n",
    "                        nn.BatchNorm2d(64)\n",
    "        )\n",
    "        self.layer2 = nn.Sequential(\n",
    "                        nn.ConvTranspose2d(64,16,3,1,1),\n",
    "                        nn.ReLU(),\n",
    "                        nn.BatchNorm2d(16),\n",
    "                        nn.ConvTranspose2d(16,1,3,2,1,1),\n",
    "                        nn.ReLU()\n",
    "        )\n",
    "        \n",
    "    def forward(self,x):\n",
    "        out = x.view(batch_size,256,7,7)\n",
    "        out = self.layer1(out)\n",
    "        out = self.layer2(out)\n",
    "        return out\n",
    "\n",
    "decoder = Decoder().cuda()"
   ]
  },
  {
   "cell_type": "code",
   "execution_count": 5,
   "metadata": {
    "collapsed": false
   },
   "outputs": [
    {
     "name": "stdout",
     "output_type": "stream",
     "text": [
      "tensor([[[[0.0000, 0.0000, 0.0274,  ..., 0.0617, 0.0248, 0.1471],\n",
      "          [0.5864, 0.7023, 0.4196,  ..., 0.6197, 0.2928, 0.1527],\n",
      "          [0.2274, 0.2141, 0.4071,  ..., 0.0000, 0.0000, 0.2506],\n",
      "          ...,\n",
      "          [0.5046, 0.4907, 0.0000,  ..., 0.0000, 0.6734, 0.5731],\n",
      "          [0.0000, 0.0256, 0.1123,  ..., 0.0000, 0.0011, 0.0000],\n",
      "          [0.3835, 0.1692, 0.3184,  ..., 0.3267, 0.4121, 0.4540]]],\n",
      "\n",
      "\n",
      "        [[[0.0000, 0.0000, 0.0000,  ..., 0.0000, 0.0000, 0.0000],\n",
      "          [0.2600, 0.4202, 0.7777,  ..., 0.0177, 0.7334, 0.3931],\n",
      "          [0.1588, 0.2946, 0.0000,  ..., 0.8265, 0.0000, 0.0270],\n",
      "          ...,\n",
      "          [0.5942, 0.1626, 0.4707,  ..., 0.0000, 0.7545, 0.7459],\n",
      "          [0.0000, 0.0000, 0.2319,  ..., 0.2003, 0.0000, 0.0000],\n",
      "          [0.4335, 0.2252, 0.4988,  ..., 0.2139, 0.3861, 0.5135]]],\n",
      "\n",
      "\n",
      "        [[[0.0000, 0.0000, 0.5420,  ..., 0.8392, 0.6557, 0.4155],\n",
      "          [0.5897, 0.8354, 0.0808,  ..., 0.0000, 0.5216, 0.0000],\n",
      "          [0.0000, 0.2872, 0.6207,  ..., 0.2770, 0.1714, 0.0378],\n",
      "          ...,\n",
      "          [0.3757, 1.0611, 0.0061,  ..., 0.0000, 0.7007, 0.6767],\n",
      "          [0.0000, 0.0000, 0.1947,  ..., 0.0000, 0.0000, 0.0000],\n",
      "          [0.5267, 0.2442, 0.0982,  ..., 0.2488, 0.5088, 0.4662]]],\n",
      "\n",
      "\n",
      "        ...,\n",
      "\n",
      "\n",
      "        [[[0.0438, 0.0938, 0.5644,  ..., 0.2500, 0.0483, 0.0000],\n",
      "          [0.9507, 0.0000, 0.4611,  ..., 0.0000, 0.9134, 0.5828],\n",
      "          [0.0730, 0.7119, 0.1985,  ..., 0.0000, 0.0000, 0.0000],\n",
      "          ...,\n",
      "          [0.2931, 0.9241, 0.5375,  ..., 0.0000, 0.5665, 0.7088],\n",
      "          [0.0000, 0.0000, 0.0803,  ..., 0.4559, 0.0487, 0.0000],\n",
      "          [0.2969, 0.5520, 0.0000,  ..., 0.4064, 0.4985, 0.5569]]],\n",
      "\n",
      "\n",
      "        [[[0.0000, 0.0000, 0.4308,  ..., 0.0000, 0.0000, 0.2827],\n",
      "          [0.9953, 0.3517, 0.5668,  ..., 0.9959, 0.5653, 0.0060],\n",
      "          [0.0000, 0.6217, 0.5024,  ..., 0.0000, 0.0400, 0.1064],\n",
      "          ...,\n",
      "          [0.5530, 1.3141, 0.9152,  ..., 0.1180, 0.5990, 0.5639],\n",
      "          [0.0000, 0.0000, 0.1550,  ..., 0.0000, 0.0000, 0.0000],\n",
      "          [0.1908, 0.0239, 0.0673,  ..., 0.2465, 0.3489, 0.5165]]],\n",
      "\n",
      "\n",
      "        [[[0.0000, 0.0000, 0.0000,  ..., 0.0000, 0.0000, 0.0000],\n",
      "          [0.0000, 0.4749, 0.6433,  ..., 0.0773, 0.6590, 0.3502],\n",
      "          [0.3166, 0.8729, 0.2455,  ..., 0.3257, 0.0000, 0.0000],\n",
      "          ...,\n",
      "          [0.4883, 0.1479, 0.4358,  ..., 0.0000, 0.6129, 0.6350],\n",
      "          [0.0186, 0.0000, 0.2354,  ..., 0.0000, 0.0000, 0.0000],\n",
      "          [0.4724, 0.0576, 0.5112,  ..., 0.1707, 0.3843, 0.4705]]]],\n",
      "       device='cuda:0', grad_fn=<ThresholdBackward0>)\n"
     ]
    }
   ],
   "source": [
    "# Check output of autoencoder\n",
    "\n",
    "for image,label in train_loader:\n",
    "    image = Variable(image).cuda()\n",
    "    \n",
    "    output = encoder(image)\n",
    "    output = decoder(output)\n",
    "    print(output)\n",
    "    break"
   ]
  },
  {
   "cell_type": "code",
   "execution_count": 6,
   "metadata": {
    "collapsed": false
   },
   "outputs": [],
   "source": [
    "# loss func and optimizer\n",
    "# we compute reconstruction after decoder so use Mean Squared Error\n",
    "# In order to use multi parameters with one optimizer,\n",
    "# concat parameters after changing into list\n",
    "\n",
    "parameters = list(encoder.parameters())+ list(decoder.parameters())\n",
    "loss_func = nn.MSELoss()\n",
    "optimizer = torch.optim.Adam(parameters, lr=learning_rate)"
   ]
  },
  {
   "cell_type": "code",
   "execution_count": 7,
   "metadata": {
    "collapsed": false
   },
   "outputs": [
    {
     "name": "stderr",
     "output_type": "stream",
     "text": [
      "/usr/local/lib/python2.7/dist-packages/torch/serialization.py:241: UserWarning: Couldn't retrieve source code for container of type Encoder. It won't be checked for correctness upon loading.\n",
      "  \"type \" + obj.__name__ + \". It won't be checked \"\n",
      "/usr/local/lib/python2.7/dist-packages/torch/serialization.py:241: UserWarning: Couldn't retrieve source code for container of type Decoder. It won't be checked for correctness upon loading.\n",
      "  \"type \" + obj.__name__ + \". It won't be checked \"\n"
     ]
    },
    {
     "name": "stdout",
     "output_type": "stream",
     "text": [
      "tensor(0.0028, device='cuda:0', grad_fn=<MseLossBackward>)\n",
      "tensor(0.0012, device='cuda:0', grad_fn=<MseLossBackward>)\n",
      "tensor(0.0006, device='cuda:0', grad_fn=<MseLossBackward>)\n",
      "tensor(0.0006, device='cuda:0', grad_fn=<MseLossBackward>)\n",
      "tensor(0.0004, device='cuda:0', grad_fn=<MseLossBackward>)\n",
      "tensor(0.0004, device='cuda:0', grad_fn=<MseLossBackward>)\n",
      "tensor(0.0004, device='cuda:0', grad_fn=<MseLossBackward>)\n",
      "tensor(0.0005, device='cuda:0', grad_fn=<MseLossBackward>)\n",
      "tensor(0.0002, device='cuda:0', grad_fn=<MseLossBackward>)\n",
      "tensor(0.0003, device='cuda:0', grad_fn=<MseLossBackward>)\n",
      "tensor(0.0002, device='cuda:0', grad_fn=<MseLossBackward>)\n",
      "tensor(0.0002, device='cuda:0', grad_fn=<MseLossBackward>)\n",
      "tensor(0.0002, device='cuda:0', grad_fn=<MseLossBackward>)\n",
      "tensor(0.0002, device='cuda:0', grad_fn=<MseLossBackward>)\n",
      "tensor(0.0002, device='cuda:0', grad_fn=<MseLossBackward>)\n",
      "tensor(0.0001, device='cuda:0', grad_fn=<MseLossBackward>)\n",
      "tensor(0.0002, device='cuda:0', grad_fn=<MseLossBackward>)\n",
      "tensor(0.0002, device='cuda:0', grad_fn=<MseLossBackward>)\n",
      "tensor(0.0002, device='cuda:0', grad_fn=<MseLossBackward>)\n",
      "tensor(0.0002, device='cuda:0', grad_fn=<MseLossBackward>)\n",
      "tensor(0.0003, device='cuda:0', grad_fn=<MseLossBackward>)\n",
      "tensor(0.0004, device='cuda:0', grad_fn=<MseLossBackward>)\n",
      "tensor(0.0004, device='cuda:0', grad_fn=<MseLossBackward>)\n",
      "tensor(0.0003, device='cuda:0', grad_fn=<MseLossBackward>)\n",
      "tensor(0.0003, device='cuda:0', grad_fn=<MseLossBackward>)\n",
      "tensor(0.0002, device='cuda:0', grad_fn=<MseLossBackward>)\n",
      "tensor(0.0003, device='cuda:0', grad_fn=<MseLossBackward>)\n",
      "tensor(0.0003, device='cuda:0', grad_fn=<MseLossBackward>)\n",
      "tensor(0.0002, device='cuda:0', grad_fn=<MseLossBackward>)\n",
      "tensor(0.0002, device='cuda:0', grad_fn=<MseLossBackward>)\n",
      "tensor(0.0002, device='cuda:0', grad_fn=<MseLossBackward>)\n",
      "tensor(0.0002, device='cuda:0', grad_fn=<MseLossBackward>)\n",
      "tensor(0.0003, device='cuda:0', grad_fn=<MseLossBackward>)\n",
      "tensor(0.0002, device='cuda:0', grad_fn=<MseLossBackward>)\n",
      "tensor(0.0004, device='cuda:0', grad_fn=<MseLossBackward>)\n",
      "tensor(0.0002, device='cuda:0', grad_fn=<MseLossBackward>)\n",
      "tensor(0.0003, device='cuda:0', grad_fn=<MseLossBackward>)\n",
      "tensor(0.0002, device='cuda:0', grad_fn=<MseLossBackward>)\n",
      "tensor(0.0002, device='cuda:0', grad_fn=<MseLossBackward>)\n",
      "tensor(0.0003, device='cuda:0', grad_fn=<MseLossBackward>)\n",
      "tensor(0.0003, device='cuda:0', grad_fn=<MseLossBackward>)\n",
      "tensor(0.0002, device='cuda:0', grad_fn=<MseLossBackward>)\n",
      "tensor(0.0002, device='cuda:0', grad_fn=<MseLossBackward>)\n",
      "tensor(0.0004, device='cuda:0', grad_fn=<MseLossBackward>)\n",
      "tensor(0.0003, device='cuda:0', grad_fn=<MseLossBackward>)\n",
      "tensor(0.0003, device='cuda:0', grad_fn=<MseLossBackward>)\n",
      "tensor(0.0003, device='cuda:0', grad_fn=<MseLossBackward>)\n",
      "tensor(0.0004, device='cuda:0', grad_fn=<MseLossBackward>)\n",
      "tensor(0.0003, device='cuda:0', grad_fn=<MseLossBackward>)\n",
      "tensor(0.0003, device='cuda:0', grad_fn=<MseLossBackward>)\n"
     ]
    }
   ],
   "source": [
    "# train encoder and decoder\n",
    "# save and load model\n",
    "\n",
    "# try:\n",
    "# \tencoder, decoder = torch.load('./model/autoencoder.pkl')\n",
    "# \tprint(\"\\n--------model restored--------\\n\")\n",
    "# except:\n",
    "# \tpass\n",
    "\n",
    "for i in range(epoch):\n",
    "    for image,label in train_loader:\n",
    "        image = Variable(image).cuda()\n",
    "        #label = Variable(label.float()).cuda()\n",
    "        optimizer.zero_grad()\n",
    "        output = encoder(image)\n",
    "        output = decoder(output)\n",
    "        loss = loss_func(output,image)\n",
    "        loss.backward()\n",
    "        optimizer.step()\n",
    "        \n",
    "    if i % 2 == 0:\n",
    "        torch.save([encoder,decoder],'./model/autoencoder.pkl')\n",
    "        print(loss)"
   ]
  },
  {
   "cell_type": "code",
   "execution_count": 8,
   "metadata": {
    "collapsed": false
   },
   "outputs": [
    {
     "name": "stdout",
     "output_type": "stream",
     "text": [
      "Input Image\n"
     ]
    },
    {
     "data": {
      "image/png": "[encoded data removed]",
      "text/plain": [
       "<matplotlib.figure.Figure at 0x7ff9cdec6390>"
      ]
     },
     "metadata": {},
     "output_type": "display_data"
    },
    {
     "name": "stdout",
     "output_type": "stream",
     "text": [
      "Output Image\n"
     ]
    },
    {
     "data": {
      "image/png": "[encoded data removed]",
      "text/plain": [
       "<matplotlib.figure.Figure at 0x7ff9cdec63c8>"
      ]
     },
     "metadata": {},
     "output_type": "display_data"
    }
   ],
   "source": [
    "input_img = image[0].cpu()\n",
    "output_img = output[0].cpu()\n",
    "\n",
    "inp = input_img.data.numpy()\n",
    "out = output_img.data.numpy()\n",
    "\n",
    "print(\"Input Image\")\n",
    "plt.imshow(inp[0],cmap='gray')\n",
    "plt.show()\n",
    "\n",
    "print(\"Output Image\")\n",
    "plt.imshow(out[0],cmap=\"gray\")\n",
    "plt.show()"
   ]
  }
 ],
 "metadata": {
  "kernelspec": {
   "display_name": "Python 2",
   "language": "python",
   "name": "python2"
  },
  "language_info": {
   "codemirror_mode": {
    "name": "ipython",
    "version": 2
   },
   "file_extension": ".py",
   "mimetype": "text/x-python",
   "name": "python",
   "nbconvert_exporter": "python",
   "pygments_lexer": "ipython2",
   "version": "2.7.6"
  }
 },
 "nbformat": 4,
 "nbformat_minor": 1
}
